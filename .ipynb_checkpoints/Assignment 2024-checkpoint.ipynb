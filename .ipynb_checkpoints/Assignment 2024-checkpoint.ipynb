{
 "cells": [
  {
   "cell_type": "markdown",
   "metadata": {},
   "source": [
    "## <b>Assignment 2024</b><br>\n",
    "ANALYSIS OF SPECTROPHOTOMETRIC AND PHYSICAL PROPERTIES OF GALAXIES<br><br>\n",
    "EXTRAGALACTIC ASTRONOMY (AST4001)<br>\n",
    "Jean Gomes: [jean@astro.up.pt](mailto:jean@astro.up.pt)\n",
    "<br>\n",
    "Catarina Lobo: [clobo@fc.up.pt](mailto:clobo@fc.up.pt)\n",
    "\n",
    "<hr>"
   ]
  },
  {
   "cell_type": "markdown",
   "metadata": {},
   "source": [
    "<b>SUBMISSION INSTRUCTIONS:</b>\n",
    "\n",
    "At the end of this assignment, you should submit, by email, to clobo@fc.up.pt and jean@astro.up.pt:\n",
    "\n",
    "<b>i)</b> a report (pdf version) with the answer to each question below. In each item you must provide a plot (if asked for) and a concise but complete argument (this means you must include a justification for the answer you provide) and, when applicable, the formula(s) (or codes) you used when computing a new quantity. Remember to indicate all steps to solve a given problem, code or when you derive a formula. \n",
    "\n",
    "- This assignement uses the repository https://github.com/neutrinomuon/AST4001-Extragalactic-Astronomy. You can clone the repository in the following manners:\n",
    "     \n",
    "1) Under <b>Linux/macOS-Unix based or Windows</b> you may use the Terminal (or also Powershell in Windows) and do:\n",
    "    \n",
    "<pre>git clone https://github.com/neutrinomuon/AST4001-Extragalactic-Astronomy</pre>\n",
    "    \n",
    "<b>P.S.:</b> Make sure you have git installed.If you are under Linux, MacOSX or Windows the easiest way to install <a href='https://python.spectralsynthesis.org/blog/publicacao/2190906/como-instalar-o-python-de-maneira-r-pida-e-f-cil-anaconda'>How to easily install Python in your machine?</a>\n",
    "    \n",
    "    \n",
    "2) Under <b>Windows</b> go to the following page https://git-scm.com/book/en/v2/Getting-Started-Installing-Git and install git.\n",
    "    \n",
    "3) In <b>ANY Operational System</b> you can also go directly to the link https://github.com/neutrinomuon/AST4001-Extragalactic-Astronomy and download the archives as the following images show.\n",
    "    \n",
    "<html>\n",
    "<center><img src=https://github.com/neutrinomuon/AST4001-Extragalactic-Astronomy/blob/master/figures/Download_Part1.png?raw=true\" width=\"65%\"></center>\n",
    "<center><img src=\"https://github.com/neutrinomuon/AST4001-Extragalactic-Astronomy/blob/master/figures/Download_Part2.png?raw=true\" width=\"65%\"></center>\n",
    "</html>  \n",
    "    \n",
    "- You will need to use Python (use only <b>Python3</b>, preference Python >= 3.8) to fulfill your assignment;\n",
    "\n",
    "- If you wish you may consider using this jupyter notebook by adding more <font color='red'>cells</font> below each question to answer them.\n",
    "\n",
    "Good luck in the preparation of the material."
   ]
  },
  {
   "cell_type": "markdown",
   "metadata": {},
   "source": [
    "## Analyzing Single-fibre Galaxies from SDSS Survey"
   ]
  },
  {
   "cell_type": "markdown",
   "metadata": {},
   "source": [
    "We will analyze a sub-sample of galaxies obtained from the Sloan Digital Sky Survey (SDSS), which hosts nearly 1 million spectra of galaxies. This specific sub-sample consists of galaxies from the CALIFA survey, providing a comprehensive dataset for analysis.\n",
    "\n",
    "SDSS: https://www.sdss.org/<br>\n",
    "CALIFA Survey: http://ifs.astroscu.unam.mx/CALIFA_WEB/public_html/eCALIFA.html<br>\n",
    "CALIFA Stamp Images: http://ifs.astroscu.unam.mx/CALIFA_WEB/public_html/eCALIFA.html<br>\n",
    "\n",
    "### Sample Characteristics\n",
    "\n",
    "The galaxies in this sub-sample encompass a wide range of Hubble types, covering the majority of classifications except for dwarf galaxies in the low mass regime. The selection criteria for this sample are detailed in the CALIFA Presentation Article (Sánchez et al., 2012), which describes how the sample was chosen from the photometric catalog of the SDSS.\n",
    "\n",
    "<img src=https://classic.sdss.org/photos/00_427.72dpi.jpg width=\"400\">"
   ]
  },
  {
   "cell_type": "markdown",
   "metadata": {},
   "source": [
    "In the CALIFA directory, there are five distinct tables describing the mother sample, comprising:\n",
    "\n",
    "- CALIFA_MotherSample.txt: This table contains the main galaxy sample along with redshift information.\n",
    "- CALIFA_MotherSample_Magnitudes.txt: It provides magnitudes in the SDSS u, g, r bands, along with foreground extinctions and the r-band Petrosian half-light radius.\n",
    "- CALIFA_MotherSample_Mass.txt: Total stellar mass computed using photometric SED fittings.\n",
    "- CALIFA_MotherSample_Morphology_ReadMe.txt: A ReadMe file detailing the morphological classification.\n",
    "- CALIFA_MotherSample_Morphology.txt: This table specifically outlines the morphological classification of the galaxies."
   ]
  },
  {
   "cell_type": "markdown",
   "metadata": {
    "jp-MarkdownHeadingCollapsed": true
   },
   "source": [
    "<strong>a)</strong> Utilize the tables mentioned above to create a master table in FITS format named CALIFA_MotherSample.fits using the astropy.io.fits (https://docs.astropy.org/en/stable/io/fits/) Python library. This table should include the following columns:\n",
    "\n",
    "\\#1  CALIFA_ID  \n",
    "\\#2  name  \n",
    "\\#3  RA    \n",
    "\\#4  DEC    \n",
    "\\#5  redshift     \n",
    "\\#6  redshift_CALIFA      \n",
    "\\#7  u     \n",
    "\\#8  u_error     \n",
    "\\#9  u_ext    \n",
    "\\#10 g     \n",
    "\\#11 g_error    \n",
    "\\#12 g_ext     \n",
    "\\#13 r       \n",
    "\\#14 r_error     \n",
    "\\#15 r_ext      \n",
    "\\#17 hubble_type   \n",
    "\\#18 bar   \n",
    "\\#19 merger   \n",
    "\\#20 mstar        \n",
    "\\#21 R_50\n",
    "\n",
    "<strong>b)</strong> In order to enhance the FITS table CALIFA_MotherSample.fits generated in step <strong>a)</strong>, we must introduce an additional column. This column should represent the physical size, measured in kiloparsecs (kpc), corresponding to 3 arcseconds—the extent covered by the SDSS fiber. It's crucial to consider that the SDSS fiber spans merely 3 arcseconds and is typically centered on the extended object, such as galaxies in our case. Consequently, it's essential to acknowledge that the spatial scale mapped by the SDSS spectrum does not fully encompass the entirety of the galaxy's extent.\n",
    "\n",
    "<b>Hint:</b>\n",
    "\n",
    "To perform this calculation, you can utilize Python and the astropy.cosmology module, specifically the FlatLambdaCDM class. Use the kpc_proper_per_arcmin function to compute the angular separation in arcseconds corresponding to a proper kiloparsec at a given redshift (z). Throughout the calculation, you can adopt the following cosmological parameters: $H0 = 70$ km/s/Mpc, $\\Omega_M = 0.3$, $\\Omega_\\Lambda = 0.7$, which are typical values for a flat universe.\n",
    "\n",
    "<strong>c)</strong> The Petrosian half-light radius in the r-band, denoted as $R_{50}$, measured in arcseconds, provides an approximation of the size of the galaxy. Essentially, $R_{50}$ represents the radius that encompasses half of the light emitted by the galaxy in the specified band. To compute the physical size in kiloparsecs (kpc) of $R_{50}$, we can use the angular diameter distance formula along with the known redshift of each galaxy.\n",
    "\n",
    "Once we have computed the physical size of $R_{50}$ for each galaxy, we can plot the mass-size relation, where the stellar mass ($m_{\\star}$) is plotted against $R_{50}$. By analyzing this plot, we can discern any potential correlations between the stellar mass and the size of the galaxies.\n",
    "\n",
    "If we observe a correlation between stellar mass and $R_{50}$, it could imply that more massive galaxies tend to have larger sizes. This correlation might be attributed to various factors, such as the galaxy's formation history, mergers, or environmental influences.\n",
    "\n",
    "<strong>d)</strong> After computing the projected size in step <strong>b)</strong> and obtaining the Petrosian size in step <strong>c)</strong>, we can compare these two measurements to assess the potential advantages of employing integral field spectroscopy (IFU) over single-fiber SDSS spectroscopy.\n",
    "\n",
    "Integral field spectroscopy offers several advantages for studying galaxies. Unlike single-fiber spectroscopy, which provides data from a limited region of the galaxy, IFU allows for the simultaneous observation of the entire spatial extent of the galaxy. This comprehensive view enables a deeper understanding of internal structures, dynamics, and spatially resolved properties. With IFU, researchers can investigate spatial variations in properties such as gas kinematics, star formation rates, and metallicity across the galaxy. These insights provide valuable information for understanding the formation and evolution processes of galaxies.\n",
    "\n",
    "The projected size computed in step <strong>b)</strong> represents the physical size of the galaxies based on their redshift and the angular diameter distance formula. On the other hand, the Petrosian size obtained in step <strong>c)</strong> provides an approximation of the galaxy's size based on the radius that contains half of the light emitted by the galaxy in the r-band.\n",
    "\n",
    "By comparing these two sizes, we can evaluate whether the spatial extent sampled by the single-fiber SDSS spectroscopy adequately captures the entire galaxy or if there are significant portions of the galaxy that remain unobserved. If the Petrosian size significantly exceeds the projected size computed in step <strong>b)</strong>, it suggests that single-fiber spectroscopy might miss important spatial information about the galaxy's outer regions.\n",
    "\n",
    "In such cases, employing IFU would be justified, as it allows for the simultaneous observation of the entire spatial extent of the galaxy. IFU provides a more comprehensive view of the galaxy's internal structures, dynamics, and spatially resolved properties, including spatial variations in properties such as gas kinematics, star formation rates, and metallicity.\n",
    "\n",
    "Therefore, if the Petrosian size is notably larger than the projected size, it indicates that IFU would indeed offer significant advantages over single-fiber SDSS spectroscopy, providing a more complete understanding of the galaxy's properties and evolution."
   ]
  },
  {
   "cell_type": "markdown",
   "metadata": {},
   "source": [
    "###  FADO code applied to SDSS-spectra from  the CALIFA survey"
   ]
  },
  {
   "cell_type": "markdown",
   "metadata": {},
   "source": [
    "<strong>e)</strong> Assume that you have downloaded the FADO population synthesis code from the repository at www.github.com/neutrinomuon/AST4001. First clone the repository to your machine. If you want you may check on how to run FADO at  page \n",
    "\n",
    "https://github.com/neutrinomuon/AST4001/blob/master/FADO_Execute_ListOfGalaxies-GITHUB.ipynb\n",
    "\n",
    "Assume you have ran FADO in the list mode for all 644 galaxies with SDSS spectra used in the CALIFA survey. The reduced spectra of these galaxies are located at the directory CALIFA/spectra/ (corrected for Galactic extinction and redshift). They are in ascii format and have the following nomenclature spec-fiberID-MJD-plateID.fits.ascii. You have produced the following output files *.fits plus *.eps at the directory CALIFA/Output/ and the FADO master tables:\n",
    "\n",
    "- SampleEmissionEL_lista_SDSS_CALIFA.txt.table and \n",
    "- SampleStatistics_lista_SDSS_CALIFA.txt.table \n",
    "\n",
    "are at CALIFA/Tables."
   ]
  },
  {
   "cell_type": "markdown",
   "metadata": {},
   "source": [
    "<strong>f)</strong> From the tables obtained after processing these galaxies with FADO, plot the mean stellar age light-weighted as a function of the mean stellar metallicity light-weighted. Use the size of the dots to show the total stellar mass in the fiber. Is there a correlation? Why?\n",
    "\n",
    "<strong>g)</strong> Compute the recent star formation rate from the luminosity of the H$\\alpha$ emission-line in the fiber, expressing your result in $[M_\\odot/\\textrm{year}]$, using the empirical formula derived by Kennicutt (1998, ApJ, 498, 541; note that this formula assumes a Salpeter IMF).\n",
    "\n",
    "Hint:\n",
    "\n",
    "Recall that you need to correct the observed H$\\alpha$ flux from the internal extinction present in each galaxy. To obtain the mean extinction at the wavelength of H$\\alpha$ ($A_{\\textrm{H}\\alpha}$), from the data (namely, from the parameter <b>Gnebular</b>, that stands for AV and was derived by FADO for each galaxy), use the Cardelli, Clayton & Mathis (1989, ApJ, 345, 245) - https://ui.adsabs.harvard.edu/abs/1989ApJ...345..245C/abstract - mean extinction law and their equations (1), (3a) and (3b). You may also wish to use the python module extinction - https://extinction.readthedocs.io/en/latest/ to correct the flux luminosities.\n",
    "\n",
    "<strong>h)</strong> The BPT diagrams (named after \"Baldwin, Phillips & Telervich\") are a set of nebular emission line ratio diagrams used to distinguish the ionization source of gas. The most famous and used version consists of $[NII]_{6584}$/$H\\alpha$ versus $[OIII]_{5007}$/$H\\beta$ (<b>the BPT-NII diagram</b>; Fig. 5 of Baldwin et al. 1981). These diagrams were studied in distinct works to separate and classify different types of galaxies. For instance, dividing lines have been developed and adapted as a function of the ionization models and/or observations available (e.g., Veilleux & Osterbrock 1987; Osterbrock 1989; Kewley et al 2001; Kauffmann et al. 2003; Kewley et al. 2006; Stasińska et al. 2006; Kewley et al. 2013a,b).  \n",
    "\n",
    "Below are listed the demarcations summarized by Kewley et al. 2006 for each diagram:\n",
    "\n",
    "        1- log([OIII]/Hβ) = 0.61 / (log([NII]/Hα) - 0.05) + 1.30 \n",
    "        (Kauffmann et al. 2003 line)\n",
    "        \n",
    "        2- log([OIII]/Hβ) = 0.61 / (log([NII]/Hα) - 0.47) + 1.19 \n",
    "        (Kewley et al. 2001 line)\n",
    "        \n",
    "        3- log([OIII]/Hβ) = 1.01 * (log([NII]/Hα) + 0.48 \n",
    "        (Cid Fernandes et al. 2010 line)\n",
    "\n",
    "Where, relation 1 is used to separate galaxies that are star-forming for values lower than this demarcation line, and relation 2 is used to separate galaxies that are either Seyfert and/or LINERs, for values higher than this demarcation line. Galaxies falling in between lines 1 and 2 are called Composites. Galaxies in the upper-right branch can be further subdivided into LINERs and Seyfert using the demarcation line 3, valid only above relation 2.\n",
    "\n",
    "Plot for these galaxies the BPT-NII diagram and draw the demarcation lines. Do you think that, for any galaxy in this sample, you may be incurring in an error in <strong>c)</strong> by using the $\\textrm{H}\\alpha$ flux to compute the SFR? Why? If you answered affirmatively, which galaxy(ies) may be affected by such an error?\n",
    "\n",
    "<strong>i)</strong> We should, in principle, use the total SFR from and total stellar mass, but we will make use only of the fiber quantities. Plot the SFR versus total stellar mass in the fiber using blue color for the star-forming galaxies and the others in red. Can you explain the result? Why there seems to have two different sequences? Find the best linear fit to the star-forming galaxies.\n",
    "\n",
    "<b>Hints:</b>\n",
    "\n",
    "I) You can use the python module ReadFADOTables_AST4001.py located inside the directory CALIFA/Tables to read the quantitites needed to this exercise.\n",
    "\n",
    "II) For the BPT-NII diagram, you do not need to correct the emission-lines for extinction. Think and explain why this is the case."
   ]
  },
  {
   "cell_type": "markdown",
   "metadata": {},
   "source": [
    "<strong>j)</strong> Check all your results and the available data in tables (photometric and spectroscopic catalogs). Provide any additional test you may think of, briefly explaining why you did it, what you aimed at testing, what you expected, what you actually got and why."
   ]
  },
  {
   "cell_type": "code",
   "execution_count": null,
   "metadata": {},
   "outputs": [],
   "source": []
  }
 ],
 "metadata": {
  "kernelspec": {
   "display_name": "Python 3 (ipykernel)",
   "language": "python",
   "name": "python3"
  },
  "language_info": {
   "codemirror_mode": {
    "name": "ipython",
    "version": 3
   },
   "file_extension": ".py",
   "mimetype": "text/x-python",
   "name": "python",
   "nbconvert_exporter": "python",
   "pygments_lexer": "ipython3",
   "version": "3.9.7"
  }
 },
 "nbformat": 4,
 "nbformat_minor": 4
}
