{
 "cells": [
  {
   "cell_type": "markdown",
   "metadata": {},
   "source": [
    "## <b>Assignment</b><br>\n",
    " ANALYSIS OF SPECTROPHOTOMETRIC AND PHYSICAL PROPERTIES OF GALAXIES<br>\n",
    " EXTRAGALACTIC ASTRONOMY (AST4001)<br><br>\n",
    " 2021/2022\n",
    "\n",
    "_________________________________"
   ]
  },
  {
   "cell_type": "markdown",
   "metadata": {},
   "source": [
    "<b>SUBMISSION INSTRUCTIONS:</b>\n",
    "\n",
    "At the end of this assignment, you should submit, by email, to clobo@fc.up.pt and jean@astro.up.pt:\n",
    "\n",
    "<b>i)</b> a report (pdf version) with the answer to each question below. In each item you must provide a plot (if asked for) and a concise but complete argument (this means you must include a justification for the answer you provide) and, when applicable, the formula(s) (or codes) you used when computing a new quantity. Remember to indicate all steps to solve a given problem, code or when you derive a formula. \n",
    "\n",
    "- This assignement uses the repository www.github.com/neutrinomuon/AST4001. You can clone the repository in the following manner:\n",
    "     \n",
    "    1) Under <b>Linux/MacOSX</b> you may use in the terminal and do\n",
    "    \n",
    "    git clone https://github.com/neutrinomuon/AST4001\n",
    "    \n",
    "    2) Under <b>Windows</b> go to the following page https://git-scm.com/book/en/v2/Getting-Started-Installing-Git and install git.\n",
    "    \n",
    "    3) In <b>ANY Operational System</b> you can also go directly to the link https://github.com/neutrinomuon/AST4001 and download the archives as the following images show.\n",
    "    \n",
    "<html>\n",
    "<center><img src=\"https://raw.githubusercontent.com/neutrinomuon/AST4001/master/Download_Part1.png\" width=\"65%\"></center>\n",
    "<center><img src=\"https://raw.githubusercontent.com/neutrinomuon/AST4001/master/Download_Part2.png\" width=\"65%\"></center>\n",
    "</html>  \n",
    "    \n",
    "- You will need to use Python (use only Python3) to fulfill your assignment;\n",
    "\n",
    "- If you wish you may consider using this jupyter notebook by adding more <font color='red'>cells</font> below each question to answer them.\n",
    "\n",
    "Good luck in the preparation of the material."
   ]
  },
  {
   "cell_type": "markdown",
   "metadata": {},
   "source": [
    "## Analysis of CALIFA galaxies using the Sloan Digital Sky Survey (SDSS) dataset"
   ]
  },
  {
   "cell_type": "markdown",
   "metadata": {},
   "source": [
    "<strong>1)</strong> We are going to use the main galaxy sample from the CALIFA survey as a guide, you can check the details of the survey here: \n",
    "\n",
    "https://califaserv.caha.es/CALIFA_WEB/public_html/?q=content/califa-3rd-data-release \n",
    "\n",
    "and see the poststamps for the galaxy photos here:\n",
    "\n",
    "https://califaserv.caha.es/CALIFA_WEB/public_html/?q=content/sdss-poststamp-images-dr3-objects&explorer=1. \n",
    "\n",
    "Basically all hubbles types are spanned in this sample, with exception of dwarf galaxies in the low mass regime. See the CALIFA Presentation Article (Sánchez et al. 2012) describing the sample and how was selected. The targets for this survey have been selected from the photometric catalog of the Sloan Digital Sky Survey (SDSS) as a sample limited in apparent isophotal diameter. The PMAS/PPAK integral field spectrophotometer, mounted on the Calar Alto 3.5 m telescope, has been used to observe these galaxies, guaranteeing that the full field-of-view (FoV) was covered.\n",
    "\n",
    "<html>\n",
    "<img src=\"https://raw.githubusercontent.com/neutrinomuon/AST4001/master/CALIFA/CalifaHeader.jpg\" alt=\\\"Snow\\\" width=\\\"65%\\\">\n",
    "</html>     "
   ]
  },
  {
   "cell_type": "markdown",
   "metadata": {},
   "source": [
    "There are 5 different tables in the directory CALIFA describing the mother sample composed of \n",
    "\n",
    "- CALIFA_MotherSample.txt: Main galaxy sample with redshift information\n",
    "- CALIFA_MotherSample_Magnitudes.txt : Magnitudes in the SDSS u,g,r and the band foreground extinctions; r-band Petrosian half-light radius\n",
    "- CALIFA_MotherSample_Mass.txt: Total stellar mass computed with Photometry\n",
    "- CALIFA_MotherSample_Morphology_ReadMe.txt: ReadMe file for the morphological classification\n",
    "- CALIFA_MotherSample_Morphology.txt: Morphological classification\n",
    "\n",
    "\n",
    "https://github.com/neutrinomuon/AST4001/tree/master/CALIFA"
   ]
  },
  {
   "cell_type": "markdown",
   "metadata": {},
   "source": [
    "<strong>a)</strong> Create from the tables above a master table in FITS format called CALIFA_MotherSample.fits using astropy.io.fits (https://docs.astropy.org/en/stable/io/fits/) containing in the columns:\n",
    "\n",
    "\\#1  CALIFA_ID  \n",
    "\\#2  name  \n",
    "\\#3  RA    \n",
    "\\#4  DEC    \n",
    "\\#5  redshift     \n",
    "\\#6  redshift_CALIFA      \n",
    "\\#7  u     \n",
    "\\#8  u_error     \n",
    "\\#9  u_ext    \n",
    "\\#10 g     \n",
    "\\#11 g_error    \n",
    "\\#12 g_ext     \n",
    "\\#13 r       \n",
    "\\#14 r_error     \n",
    "\\#15 r_ext      \n",
    "\\#17 hubble_type   \n",
    "\\#18 bar   \n",
    "\\#19 merger   \n",
    "\\#20 mstar        \n",
    "\\#21 R_50\n",
    "\n",
    "<strong>b)</strong> Add a new column to the fits table CALIFA_MotherSample.fits with the physical size (in kpc) corresponding to 3 arcsec (size of the fiber) on the sky at the redshift of each galaxy, to understand what is the region sampled by the SDSS spectrum for each galaxy.\n",
    "\n",
    "Hint:\n",
    "For this calculation, you may wish to compute the angular diameter distance in Pyhton using the astropy.cosmology (FlatLambdaCDM) and the function kpc_proper_per_arcmin, which will give the angular separation in arcsec corresponding to a proper kpc at redshift z; you can adopt the following cosmological parameters throughout: $H0 = 70$ km/s/Mpc, $\\Omega_M = 0.3$, $\\Omega_\\Lambda = 0.7$ for a flat universe. \n",
    "\n",
    "<strong>c)</strong> The Petrosian half-light radius in r band $R_{50}$, in arcsec, gives an idea of the size of the galaxy. Roughly, $R_{50}$ is the radius which contains half of the ligth of a galaxy in a given band. Compute the physical size in kpc of $R_{50}$. Plot the mass-size relation, i.e. mstar versus $R_{50}$. Do you see any correlation? Why? Do you think it is justified to use integral field spectroscopy?\n",
    "\n",
    "<!-- This is commented out. <strike><strong>d)</strong> If you plot u-g versus g-r observed colors obtained from SDSS (galaxies from the CALIFA survey) (with respective error bars), would you be able to describe a fraction of the galaxies with the color evolution derived in problem <strong>2 -b)</strong> for the instantaneous of continuous models? Elaborate your final answer.</strike>\n",
    "Hint : Here the magnitudes of SDSS are not corrected for extinction. Correct it using the table created on <strong>a)</strong> and with the following formula: \n",
    "<br>$$m_{\\lambda}= -2.5 \\log(F_{\\lambda}) + A_{\\lambda} + C$$\n",
    "<br>$$ m_{\\lambda} = m_{\\lambda,corr} + A_{\\lambda}$$\n",
    "<br>$$m_{\\lambda,corr} = m - A_{\\lambda}$$</p> -->"
   ]
  },
  {
   "cell_type": "markdown",
   "metadata": {},
   "source": [
    "## Simulating FADO population synthesis analysis"
   ]
  },
  {
   "cell_type": "markdown",
   "metadata": {},
   "source": [
    "<strong>2)</strong> Assume that you have downloaded the FADO population synthesis code from the repository at www.github.com/neutrinomuon/AST4001. First clone the repository to your machine. If you want you may check on how to run FADO at: \n",
    "\n",
    "https://github.com/neutrinomuon/AST4001/blob/master/FADO_Execute_ListOfGalaxies-GITHUB.ipynb\n",
    "\n",
    "FADO currently works only on LINUX/MACOS systems. Here you can assume you have ran FADO in the list mode for all 644 galaxies with SDSS spectra used in the CALIFA survey. The reduced spectra of these galaxies are located at the directory CALIFA/spectra/(corrected for Galactic extinction and redshift). They are in ascii format and have the following nomenclature spec-fiberID-MJD-plateID.fits.ascii. <b>These spectra come in units of [10<sup>-17</sup> erg/s/cm<sup>2</sup>/&#8491;ngstrom]</b>. After you run the population sysnthesis code FADO, you have produced the following output files *.fits plus *.eps at the directory CALIFA/Output/ and the FADO master tables:\n",
    "\n",
    "- SampleEmissionEL_lista_SDSS_CALIFA.txt.table and \n",
    "- SampleStatistics_lista_SDSS_CALIFA.txt.table \n",
    "\n",
    "They are already at the following directory: CALIFA/Tables. <b>The Output of the emission-line table comes in units of [GALSNORM]</b>.\n",
    "\n",
    "Hints:\n",
    "\n",
    "I) You can use the python module ReadFADOTables_AST4001.py located inside the directory CALIFA/Tables to read automatically the by-product quantitites needed to complete this exercise.\n",
    "\n",
    "II) For the BPT-NII diagram, you do not need to correct the emission-lines for extinction. Think and explain why this is the case."
   ]
  },
  {
   "cell_type": "markdown",
   "metadata": {},
   "source": [
    "<strong>a)</strong> From the tables obtained after processing these galaxies with FADO, plot the mean stellar age light-weighted as a function of the mean stellar metallicity light-weighted. Use the size of the dots to show the total stellar mass in the fiber. Is there a correlation? Why?\n",
    "\n",
    "<strong>b)</strong> Compute the recent star formation rate from the luminosity of the H$\\alpha$ emission-line in the fiber, expressing your result in $[M_\\odot/\\textrm{year}]$, using the empirical formula derived by Kennicutt (1998, ApJ, 498, 541; note that this formula assumes a Salpeter IMF).\n",
    "\n",
    "Hint:\n",
    "\n",
    "Recall that you need to correct the observed H$\\alpha$ flux from the internal extinction present in each galaxy. To obtain the mean extinction at the wavelength of H$\\alpha$ ($A_{\\textrm{H}\\alpha}$), from the data (namely, from the parameter <b>Gnebular</b>, that stands for AV and was derived by FADO for each galaxy), use the Cardelli, Clayton & Mathis (1989, ApJ, 345, 245) - https://ui.adsabs.harvard.edu/abs/1989ApJ...345..245C/abstract - mean extinction law and their equations (1), (3a) and (3b). You may also wish to use the python module extinction - https://extinction.readthedocs.io/en/latest/ to correct the flux luminosities.\n",
    "\n",
    "<strong>c)</strong> The BPT diagrams (named after \"Baldwin, Phillips & Telervich\") are a set of nebular emission line ratio diagrams used to distinguish the ionization source of gas. The most famous and used version consists of $[NII]_{6584}$/$H\\alpha$ versus $[OIII]_{5007}$/$H\\beta$ (<b>the BPT-NII diagram</b>; Fig. 5 of Baldwin et al. 1981). These diagrams were studied in distinct works to separate and classify different types of galaxies. For instance, dividing lines have been developed and adapted as a function of the ionization models and/or observations available (e.g., Veilleux & Osterbrock 1987; Osterbrock 1989; Kewley et al 2001; Kauffmann et al. 2003; Kewley et al. 2006; Stasińska et al. 2006; Kewley et al. 2013a,b).  \n",
    "\n",
    "Below are listed the demarcations summarized by Kewley et al. 2006 for each diagram:\n",
    "\n",
    "        1- log([OIII]/Hβ) = 0.61 / (log([NII]/Hα) - 0.05) + 1.30 \n",
    "        (Kauffmann et al. 2003 line)\n",
    "        \n",
    "        2- log([OIII]/Hβ) = 0.61 / (log([NII]/Hα) - 0.47) + 1.19 \n",
    "        (Kewley et al. 2001 line)\n",
    "        \n",
    "        3- log([OIII]/Hβ) = 1.01 * (log([NII]/Hα) + 0.48 \n",
    "        (Cid Fernandes et al. 2010 line)\n",
    "\n",
    "Where, relation 1 is used to separate galaxies that are star-forming for values lower than this demarcation line, and relation 2 is used to separate galaxies that are either Seyfert and/or LINERs, for values higher than this demarcation line. Galaxies falling in between lines 1 and 2 are called Composites. Galaxies in the upper-right branch can be further subdivided into LINERs and Seyfert using the demarcation line 3, valid only above relation 2.\n",
    "\n",
    "Plot for these galaxies the BPT-NII diagram and draw the demarcation lines. Do you think that, for any galaxy in this sample, you may be incurring in an error in <strong>c)</strong> by using the H$\\alpha$ flux to compute the SFR? Why? If you answered affirmatively, which galaxy(ies) may be affected by such an error?\n",
    "\n",
    "<strong>d)</strong> We should, in principle, use the total SFR from and total stellar mass, but we will make use only of the fiber quantities. Plot the SFR versus total stellar mass in the fiber using blue color for the star-forming galaxies and the others in red. Can you explain the result? Why there seems to have two different sequences? Find the best linear fit to the star-forming galaxies."
   ]
  },
  {
   "cell_type": "markdown",
   "metadata": {},
   "source": [
    "<strong>3)</strong> Check all your results and the available data in tables (photometric and spectroscopic catalogs). Provide any additional test you may think of, briefly explaining why you did it, what you aimed at testing, what you expected, what you actually got and why."
   ]
  },
  {
   "cell_type": "code",
   "execution_count": null,
   "metadata": {},
   "outputs": [],
   "source": []
  }
 ],
 "metadata": {
  "kernelspec": {
   "display_name": "Python 3",
   "language": "python",
   "name": "python3"
  },
  "language_info": {
   "codemirror_mode": {
    "name": "ipython",
    "version": 3
   },
   "file_extension": ".py",
   "mimetype": "text/x-python",
   "name": "python",
   "nbconvert_exporter": "python",
   "pygments_lexer": "ipython3",
   "version": "3.9.12"
  }
 },
 "nbformat": 4,
 "nbformat_minor": 2
}
