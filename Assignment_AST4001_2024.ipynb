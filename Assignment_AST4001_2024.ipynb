{
 "cells": [
  {
   "cell_type": "markdown",
   "metadata": {},
   "source": [
    "## <b>Assignment 2024</b><br>\n",
    "ANALYSIS OF SPECTROPHOTOMETRIC AND PHYSICAL PROPERTIES OF GALAXIES<br><br>\n",
    "EXTRAGALACTIC ASTRONOMY (AST4001)<br>\n",
    "Jean Gomes: [jean@astro.up.pt](mailto:jean@astro.up.pt)\n",
    "<br>\n",
    "Catarina Lobo: [clobo@fc.up.pt](mailto:clobo@fc.up.pt)\n",
    "\n",
    "<hr>"
   ]
  },
  {
   "cell_type": "markdown",
   "metadata": {},
   "source": [
    "<b>SUBMISSION INSTRUCTIONS:</b>\n",
    "\n",
    "At the end of this assignment, you should submit - by email to clobo@fc.up.pt and jean@astro.up.pt - this notebook, edited by you: add one or more <font color='red'>cells</font> after each question to answer what is being asked. In each item, you must provide one or more plots (if asked for) and a concise but complete argument (this means you must include a justification for the answer you provide) and, when applicable, the formula(s) (or codes) you used when computing a new quantity. Remember to indicate all steps to solve a given problem, code or when you derive a formula. \n",
    "\n",
    "- This assignment uses the repository https://github.com/neutrinomuon/AST4001-Extragalactic-Astronomy. You can clone the repository in the following manners:\n",
    "     \n",
    "1) Under <b>Linux/macOS-Unix based or Windows</b> you may use the Terminal (or also Powershell in Windows) and do:\n",
    "    \n",
    "<pre>git clone https://github.com/neutrinomuon/AST4001-Extragalactic-Astronomy</pre>\n",
    "    \n",
    "<b>P.S.:</b> Make sure you have git installed.If you are under Linux, MacOSX or Windows the easiest way to install <a href='https://python.spectralsynthesis.org/blog/publicacao/2190906/como-instalar-o-python-de-maneira-r-pida-e-f-cil-anaconda'>How to easily install Python in your machine?</a>\n",
    "    \n",
    "    \n",
    "2) Under <b>Windows</b> go to the following page https://git-scm.com/book/en/v2/Getting-Started-Installing-Git and install git.\n",
    "    \n",
    "3) In <b>ANY Operational System</b> you can also go directly to the link https://github.com/neutrinomuon/AST4001-Extragalactic-Astronomy and download the archives as the following images show.\n",
    "    \n",
    "<html>\n",
    "<center><img src=https://github.com/neutrinomuon/AST4001-Extragalactic-Astronomy/blob/master/figures/Download_Part1.png?raw=true\" width=\"65%\"></center>\n",
    "<center><img src=\"https://github.com/neutrinomuon/AST4001-Extragalactic-Astronomy/blob/master/figures/Download_Part2.png?raw=true\" width=\"65%\"></center>\n",
    "</html>  \n",
    "    \n",
    "</br>\n",
    "    \n",
    "You will need to use Python (use only <b>Python3</b>, preference Python >= 3.8) to fulfill your assignment.  \n",
    "    \n",
    "</br>\n",
    "\n",
    "Good luck in the preparation of the material, and do not forget to indicate clearly the names of the students submitting the notebook. "
   ]
  },
  {
   "cell_type": "markdown",
   "metadata": {},
   "source": [
    "## Analysing a sample of galaxies observed with single fibre spectra (SDSS survey) and Integral Field Spectroscopy (CALIFA survey)"
   ]
  },
  {
   "cell_type": "markdown",
   "metadata": {},
   "source": [
    "We will start by analysing a sub-sample of galaxies drawn from the Sloan Digital Sky Survey (SDSS), which hosts nearly 1 million spectra of galaxies. This specific sub-sample of galaxies was later observed using an Integral Field Spectrograph (IFS) - the PMAS/PPAK -, and makes up the CALIFA survey, which provides a comprehensive dataset for further analyses of these galaxies.\n",
    "\n",
    "SDSS: https://www.sdss.org/<br>\n",
    "CALIFA Survey and Postage Stamp Images: http://ifs.astroscu.unam.mx/CALIFA_WEB/public_html/eCALIFA.html<br>\n",
    "(check the CALIFA Summary for details on this survey).\n",
    "\n",
    "### Sample Characteristics\n",
    "\n",
    "The galaxies in this sub-sample encompass a wide range of Hubble types, covering the majority of classifications except for dwarf galaxies in the low mass regime. The selection criteria for this sample are detailed in the CALIFA Presentation Article (Sánchez et al. 2012, A&A, 538, A8, 31 pp. - https://ui.adsabs.harvard.edu/abs/2012A%26A...538A...8S/abstract), which describes how the sample was chosen from the photometric catalogue of the SDSS.\n",
    "\n",
    "<img src=https://classic.sdss.org/photos/00_427.72dpi.jpg width=\"400\">"
   ]
  },
  {
   "cell_type": "markdown",
   "metadata": {},
   "source": [
    "In the CALIFA directory, there are five distinct tables describing the mother sample, comprising:\n",
    "\n",
    "- CALIFA_MotherSample.txt: This table contains the main galaxy sample along with redshift information.\n",
    "- CALIFA_MotherSample_Magnitudes.txt: It provides magnitudes in the SDSS u, g, r bands, along with foreground extinctions and the r-band Petrosian half-light radius.\n",
    "- CALIFA_MotherSample_Mass.txt: Total stellar mass computed using photometric SED fittings.\n",
    "- CALIFA_MotherSample_Morphology_ReadMe.txt: A ReadMe file detailing the morphological classification.\n",
    "- CALIFA_MotherSample_Morphology.txt: This table specifically outlines the morphological classification of the galaxies.\n",
    "\n",
    "<br/>"
   ]
  },
  {
   "cell_type": "markdown",
   "metadata": {
    "jp-MarkdownHeadingCollapsed": true
   },
   "source": [
    "<strong>a)</strong> Use the tables mentioned above to create a master table in FITS format named CALIFA_data.fits using the astropy.io.fits (https://docs.astropy.org/en/stable/io/fits/) Python library. This table should include the following columns:\n",
    "\n",
    "\\#1  CALIFA_ID  \n",
    "\\#2  name  \n",
    "\\#3  RA    \n",
    "\\#4  DEC    \n",
    "\\#5  redshift     \n",
    "\\#6  redshift_CALIFA      \n",
    "\\#7  u     \n",
    "\\#8  u_error     \n",
    "\\#9  u_ext    \n",
    "\\#10 g     \n",
    "\\#11 g_error    \n",
    "\\#12 g_ext     \n",
    "\\#13 r       \n",
    "\\#14 r_error     \n",
    "\\#15 r_ext      \n",
    "\\#17 hubble_type   \n",
    "\\#18 bar   \n",
    "\\#19 merger   \n",
    "\\#20 mstar        \n",
    "\\#21 R_50\n",
    "\n",
    "</br>\n",
    "\n",
    "<strong>b)</strong> To explore and better understand these data, we must introduce additional columns in the FITS table CALIFA_data.fits generated in step <strong>a)</strong>. A new column should represent the physical size, measured in kiloparsecs (kpc), corresponding to 3 arcseconds — the extent previously covered by the SDSS fibre. In what follows below, it's crucial to recall that the SDSS fibre spans merely 3 arcseconds and is typically centred on the extended object, such as galaxies in our case. The CALIFA observations, instead, probe a much larger area thanks to the integral field unit that was used: you can add another new column to the FITS table where, for each galaxy, you compute the rough diameter (in kpc) corresponding to the area covered by the PMAS/PPAK IFU observations. \n",
    "\n",
    "<b>Hint:</b>\n",
    "\n",
    "To perform these calculations, you can utilize Python and the astropy.cosmology module, specifically the FlatLambdaCDM class. Use the kpc_proper_per_arcmin function to compute the angular separation in arcseconds corresponding to a proper kiloparsec at a given redshift (z). Throughout the calculation, you can adopt the following cosmological parameters: $H0 = 70$ km/s/Mpc, $\\Omega_M = 0.3$, $\\Omega_\\Lambda = 0.7$, which are typical values for a flat universe.\n",
    "\n",
    "\n",
    "</br>\n",
    "\n",
    "<strong>c)</strong> The Petrosian half-light radius in the r-band, denoted as $R_{50}$, measured in arcseconds, provides an approximation of the size of the galaxy. Essentially, $R_{50}$ represents the radius that encompasses half of the light emitted by the galaxy in the specified band. To compute the physical size in kiloparsecs (kpc) assessed via $R_{50}$, we can use the angular diameter distance formula along with the known redshift of each galaxy.\n",
    "\n",
    "Once you have computed the physical size associated with $R_{50}$ for each galaxy, plot the mass-size relation, where the stellar mass ($m_{\\star}$) is plotted against $R_{50}$. Analyse this plot and provide comments on the results.\n",
    "\n",
    "</br>\n",
    "\n",
    "<strong>d)</strong> Compare the 3 arcseconds projected size and the PMAS/PPAK width, both obtained in step <strong>b)</strong>, with the Petrosian size assessed in step <strong>c)</strong>, and comment on the potential advantages of employing integral field spectroscopy (IFS) over single-fibre spectroscopy (such as the one provided by the SDSS project).\n",
    "\n",
    "</br>"
   ]
  },
  {
   "cell_type": "markdown",
   "metadata": {},
   "source": [
    "###  FADO code applied to the SDSS-spectra of the same galaxies covered by the CALIFA survey"
   ]
  },
  {
   "cell_type": "markdown",
   "metadata": {
    "tags": []
   },
   "source": [
    "FADO (<b>F</b>itting Analysis using <b>D</b>ifferential evolution <b>O</b>ptimisation; https://www.spectralsynthesis.org/fado; Gomes & Papaderos 2017, A&A, 603A, 63G - https://ui.adsabs.harvard.edu/abs/2017A%26A...603A..63G/abstract) is a spectral population synthesis tool that uses genetic optimisation under self-consistency boundary conditions. \n",
    "\n",
    "J.M. Gomes ran FADO for all SDSS spectra obtained for the same 644 galaxies that were observed in the CALIFA survey (data you explored above). These single fibre spectra (SDSS) are much easier to analyse than the datacubes obtained from Integral Field Spectroscopy (CALIFA), and can already provide relevant information. You will next explore the parameters computed with the FADO code applied to the SDSS fibre spectra(*).\n",
    "\n",
    "The following output files (master tables) were produced after running FADO on the SDSS spectra and are available in the directory CALIFA/Tables:\n",
    "- SampleEmissionEL_lista_SDSS_CALIFA.txt.table and \n",
    "- SampleStatistics_lista_SDSS_CALIFA.txt.table \n",
    "\n",
    "You can use the Python module ReadFADOTables_AST4001.py, located inside the directory CALIFA/Tables, to read the quantities present in these tables.\n",
    "\n",
    "<br/>"
   ]
  },
  {
   "cell_type": "markdown",
   "metadata": {
    "tags": []
   },
   "source": [
    "---\n",
    "<b>(*) THIS PART IS NOT MANDATORY:</b>\n",
    "<br/>\n",
    "In case you are interested in how FADO works, you can download the FADO population synthesis code from the repository at www.github.com/neutrinomuon/AST4001. If you wish to do this, you should first clone the repository to your machine. After that, check on how to run FADO at:\n",
    "\n",
    "https://github.com/neutrinomuon/AST4001/blob/master/codes/FADO_Execute_ListOfGalaxies-GITHUB.ipynb\n",
    "\n",
    "You can then apply FADO to the reduced spectra of the galaxies used in this assignment - these are available in the directory CALIFA/spectra/ (corrected for Galactic extinction and redshift). They are in ASCII format and have the following nomenclature spec-fiberID-MJD-plateID.fits.ascii. You should be able to reproduce the measurements compiled in the previous tables.\n",
    "\n",
    "---\n",
    "\n",
    "<br/>\n",
    "\n"
   ]
  },
  {
   "cell_type": "markdown",
   "metadata": {},
   "source": [
    "<strong>e)</strong> Using the quantities provided in the tables above, plot the light-weighted mean stellar age as a function of the light-weighted mean stellar metallicity. Use the size of the plot symbols to show the total stellar mass within the region covered by the SDSS fibre. Is there a correlation? Why?\n",
    "\n",
    "<br/>\n",
    "\n",
    "<strong>f)</strong> Compute the recent star formation rate (expressing your result in [M$_\\odot/\\textrm{year}]$) from the luminosity of the H$\\alpha$ emission-line, in the region of each galaxy sampled by the SDSS fibre, using the empirical formula derived by Kennicutt (1998, ApJ, 498, 541; note that this formula assumes a Salpeter IMF).\n",
    "\n",
    "<b>Hint:</b>\n",
    "\n",
    "Recall that you need to correct the observed H$\\alpha$ flux from the internal extinction present in each galaxy. To obtain the mean extinction at the wavelength of H$\\alpha$ ($A_{\\textrm{H}\\alpha}$), from the data (namely, from the parameter <b>Gnebular</b>, that stands for AV and was derived by FADO for each galaxy), use the Cardelli, Clayton & Mathis (1989, ApJ, 345, 245) - https://ui.adsabs.harvard.edu/abs/1989ApJ...345..245C/abstract - mean extinction law and their equations (1), (3a) and (3b). You may also wish to use the Python module extinction - https://extinction.readthedocs.io/en/latest/ to correct the flux luminosities.\n",
    "\n",
    "<br/>\n",
    "\n",
    "<strong>g)</strong> The BPT diagrams (named after \"Baldwin, Phillips & Telervich\") are a set of nebular emission line ratio diagrams used to distinguish the ionization source of gas. The most famous and used version consists of $[NII]_{6584}$/$H\\alpha$ versus $[OIII]_{5007}$/$H\\beta$ (<b>the BPT-NII diagram</b>; Fig. 5 of Baldwin et al. 1981, PASP, 93, 5B - https://ui.adsabs.harvard.edu/abs/1981PASP...93....5B/abstract). These diagrams were studied in distinct works to separate and classify different types of galaxies. For instance, dividing lines have been developed and adapted as a function of the ionization models and/or observations available (e.g., Veilleux & Osterbrock 1987, ApJS, 63, 295V - https://ui.adsabs.harvard.edu/abs/1987ApJS...63..295V/abstract; Osterbrock 1989, NYASA, 571, 99O - https://ui.adsabs.harvard.edu/abs/1989NYASA.571...99O/abstract; Kewley et al 2001, ApJ, 556, 121K - https://ui.adsabs.harvard.edu/abs/2001ApJ...556..121K/abstract; Kauffmann et al. 2003; Kewley et al. 2006; Stasińska et al. 2006, MNRAS, 371, 972S - https://ui.adsabs.harvard.edu/abs/2006MNRAS.371..972S/abstract; Kewley et al. 2013, ApJ, 774L, 10K - https://ui.adsabs.harvard.edu/abs/2013ApJ...774L..10K/abstract; Kewley et al. 2013, ApJ, 774, 100K - https://ui.adsabs.harvard.edu/abs/2013ApJ...774..100K/abstract).  \n",
    "\n",
    "Below are listed the demarcations summarized by Kewley et al. 2006 for each diagram:\n",
    "\n",
    "        1- log([OIII]/Hβ) = 0.61 / (log([NII]/Hα) - 0.05) + 1.30 \n",
    "        (Kauffmann et al. 2003 line)\n",
    "        \n",
    "        2- log([OIII]/Hβ) = 0.61 / (log([NII]/Hα) - 0.47) + 1.19 \n",
    "        (Kewley et al. 2001 line)\n",
    "        \n",
    "        3- log([OIII]/Hβ) = 1.01 * (log([NII]/Hα) + 0.48 \n",
    "        (Cid Fernandes et al. 2010 line)\n",
    "\n",
    "\n",
    "Plot, for these galaxies, the BPT-NII diagram and draw the demarcation lines. \n",
    "\n",
    "<pre>\n",
    "    <strong>g.1)</strong> What do these demarcation lines separate? \n",
    "\n",
    "    \n",
    "    <strong>g.2)</strong> Do you think that, for any galaxy in this sample, you may be incurring an error in <strong>f)</strong> when using the Hα flux to compute the SFR in the region of the galaxy covered by the SDSS fibre? Why? If you answered affirmatively, which galaxy(ies) may be affected by such an error?\n",
    "\n",
    "    \n",
    "    <strong>g.3)</strong> For the BPT-NII diagram, you do not need to correct the emission lines for extinction. Explain why this is the case.\n",
    "</pre>\n",
    "\n",
    "<br/>\n",
    "\n",
    "<strong>h)</strong> Plot the SFR versus total stellar mass within the fibre using blue colour in the symbols for the star-forming galaxies and red for the other galaxies. Can you explain the result? Why do there seem to be two different sequences? Find the best linear fit to the star-forming galaxies in this plot.\n",
    "\n",
    "\n",
    "<br/>\n",
    "\n",
    "<strong>i)</strong> Compare the derived SFR from the SDSS fibre spectra with the colour index g-r (corrected for extinction) obtained from the CALIFA survey: analyse the plot and comment on your result.\n",
    "\n",
    "<br/>"
   ]
  },
  {
   "cell_type": "markdown",
   "metadata": {},
   "source": [
    "<strong>j)</strong> Finally: check all your results and the available data in tables (photometric and spectroscopic quantities). Provide any additional test you may think of, briefly explaining why you did it, what you aimed at testing, what you expected, what you actually got and why."
   ]
  }
 ],
 "metadata": {
  "kernelspec": {
   "display_name": "Python 3 (ipykernel)",
   "language": "python",
   "name": "python3"
  },
  "language_info": {
   "codemirror_mode": {
    "name": "ipython",
    "version": 3
   },
   "file_extension": ".py",
   "mimetype": "text/x-python",
   "name": "python",
   "nbconvert_exporter": "python",
   "pygments_lexer": "ipython3",
   "version": "3.9.7"
  }
 },
 "nbformat": 4,
 "nbformat_minor": 4
}
