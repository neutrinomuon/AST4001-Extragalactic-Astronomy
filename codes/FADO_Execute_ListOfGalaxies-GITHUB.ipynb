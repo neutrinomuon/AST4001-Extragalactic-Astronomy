{
 "cells": [
  {
   "cell_type": "markdown",
   "metadata": {},
   "source": [
    "<div align=\"right\">Jean Gomes @ 2020 @ iastro.pt - AST4001</div>"
   ]
  },
  {
   "cell_type": "markdown",
   "metadata": {},
   "source": [
    "### &#9679; 1 - Running your first fit with FADO for a list of galaxies\n",
    "\n",
    "In our first example, we have a galaxy in ascii format. The first column is wavelength (λ) and the second fluxes. The spectrum comes from SDSS, so it has a mean resolution of ~2 Å (FWHM). The unit factor to transform in [erg/s/cm<sup>2</sup>/Å] is 1x10<sup>-17</sup>. Then you need to feed FADO with this spectrum. See the command in the box below. Copy and paste the following command in your terminal while within the directory you have decompressed FADO. The spectra are located at <a href='CALIFA/spectra/'>CALIFA/spectra</a>"
   ]
  },
  {
   "cell_type": "markdown",
   "metadata": {},
   "source": [
    "<div style=\"border:1px solid #000;\"><br>  ./FADO -l CALIFA/spectra/lista_SDSS_CALIFA.txt -b SSPs/Base.BC03.S -r 2.3 -u 1.0e-17 -t CALIFA/Tables/ -o CALIFA/Output/ -s 3400 8900 1<br><br></div>\n",
    "\n",
    "or it could be invoked changing the order of the parameters as will. These produce the same output regardless of the order of the arguments :)! \n",
    "\n",
    "Depending on the number of cores your computer has, you may wish to run several instances of the FADO code. So, it would be good to direct it to a log file, such as:\n",
    "\n",
    "./FADO -l CALIFA/spectra/lista_SDSS_CALIFA.txt -b SSPs/Base.BC03.S -r 2.3 -u 1.0e-17 -t CALIFA/Tables/ -o CALIFA/Output/ -s 3400 8900 1 > LOG1 &\n",
    "\n",
    "./FADO -l CALIFA/spectra/lista_SDSS_CALIFA.txt -b SSPs/Base.BC03.S -r 2.3 -u 1.0e-17 -t CALIFA/Tables/ -o CALIFA/Output/ -s 3400 8900 1 > LOG2 &\n",
    "\n",
    "and so on..."
   ]
  },
  {
   "cell_type": "markdown",
   "metadata": {},
   "source": [
    "The meaning is the following commands:\n",
    "\n",
    "<b>\n",
    "FADO executable: ./FADO\n",
    "</b>\n",
    "\n",
    "<b>-l</b> [list of spectra with full path]: CALIFA/spectra/lista_SDSS_CALIFA.txt<br>\n",
    "<b>-b</b> [Simple Stellar Population Base with full path]: SSPs/Base.BC03.S<br>\n",
    "<b>-r</b> [FWHM resolution in Å]: 2.3<br>\n",
    "<b>-u</b> [unit or normalization factor]: 1.0e-17<br>\n",
    "<b>-t</b> [Output tables]: CALIFA/Tables/[<br>\n",
    "<b>-o</b> [Output processed files]: CALIFA/Output/[<br>\n",
    "<b>-s</b> [Spectrum range to be fitted]: 3400 8900 1<br>\n",
    "\n",
    "This will produce for each galaxy five (5) output files:<br>\n",
    "\n",
    "xxx.FADO_1D.fits -> One dimensional spectra<br>\n",
    "xxx.FADO_EL.fits -> Emission-lines<br>\n",
    "xxx.fits -> Differential evolution<br>\n",
    "xxx.fits -> Statistics file<br>\n",
    "\n",
    "xxx.FADO.coL.eps -> PGPLOT eps file.<br>\n",
    "\n",
    "FADO has other options if you want to change the default, i.e. change the attenuation law, but it is not necessary for this exercise."
   ]
  },
  {
   "cell_type": "markdown",
   "metadata": {},
   "source": [
    "### &#9679; 1.1 - Reading FADO output tables"
   ]
  },
  {
   "cell_type": "markdown",
   "metadata": {},
   "source": [
    "After you have run the complete sample, use the code ReadFADOTables_AST4001.py to read the tables. This file is in directory CALIFA/Tables."
   ]
  },
  {
   "cell_type": "code",
   "execution_count": null,
   "metadata": {},
   "outputs": [],
   "source": []
  }
 ],
 "metadata": {
  "kernelspec": {
   "display_name": "Python 3",
   "language": "python",
   "name": "python3"
  },
  "language_info": {
   "codemirror_mode": {
    "name": "ipython",
    "version": 3
   },
   "file_extension": ".py",
   "mimetype": "text/x-python",
   "name": "python",
   "nbconvert_exporter": "python",
   "pygments_lexer": "ipython3",
   "version": "3.6.10"
  }
 },
 "nbformat": 4,
 "nbformat_minor": 2
}
